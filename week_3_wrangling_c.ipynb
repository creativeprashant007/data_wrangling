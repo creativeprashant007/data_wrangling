{
 "cells": [
  {
   "cell_type": "code",
   "execution_count": 1,
   "id": "9afb0eca",
   "metadata": {},
   "outputs": [],
   "source": [
    "import pandas as pd\n",
    "import numpy as np "
   ]
  },
  {
   "cell_type": "code",
   "execution_count": 2,
   "id": "755164f3",
   "metadata": {},
   "outputs": [
    {
     "data": {
      "text/plain": [
       "dtype('float64')"
      ]
     },
     "execution_count": 2,
     "metadata": {},
     "output_type": "execute_result"
    }
   ],
   "source": [
    "s = pd.Series([1, 2, 3, None])\n",
    "s \n",
    "s.dtype "
   ]
  },
  {
   "cell_type": "code",
   "execution_count": 3,
   "id": "4a123164",
   "metadata": {},
   "outputs": [
    {
     "name": "stdout",
     "output_type": "stream",
     "text": [
      "0    False\n",
      "1    False\n",
      "2    False\n",
      "3     True\n",
      "dtype: bool\n"
     ]
    },
    {
     "data": {
      "text/plain": [
       "Int64Dtype()"
      ]
     },
     "execution_count": 3,
     "metadata": {},
     "output_type": "execute_result"
    }
   ],
   "source": [
    "s = pd.Series([1, 2, 3, None], dtype=pd.Int64Dtype())\n",
    "s\n",
    "print(s.isna())\n",
    "s.dtype"
   ]
  },
  {
   "cell_type": "code",
   "execution_count": 5,
   "id": "0e7a6ed1",
   "metadata": {},
   "outputs": [
    {
     "data": {
      "text/plain": [
       "0      one\n",
       "1      two\n",
       "2     <NA>\n",
       "3    three\n",
       "dtype: string"
      ]
     },
     "execution_count": 5,
     "metadata": {},
     "output_type": "execute_result"
    }
   ],
   "source": [
    "s = pd.Series(['one', 'two', None, 'three'], dtype=pd.StringDtype()) \n",
    "s"
   ]
  },
  {
   "cell_type": "code",
   "execution_count": 13,
   "id": "80a271b1",
   "metadata": {},
   "outputs": [
    {
     "name": "stdout",
     "output_type": "stream",
     "text": [
      "Int64\n",
      "string\n",
      "boolean\n"
     ]
    }
   ],
   "source": [
    "df = pd.DataFrame({\"A\": [1, 2, None, 4], \"B\": [\"one\", \"two\", \"three\", None],  \"C\": [False, None, False, True]}) \n",
    "df \n",
    "df[\"A\"] = df[\"A\"].astype(\"Int64\") \n",
    "df[\"B\"] = df[\"B\"].astype(\"string\") \n",
    "df[\"C\"] = df[\"C\"].astype(\"boolean\") \n",
    "df \n",
    "print(df[\"A\"].dtype)\n",
    "print(df[\"B\"].dtype) \n",
    "print(df[\"C\"].dtype) "
   ]
  },
  {
   "cell_type": "code",
   "execution_count": 16,
   "id": "41737c1c",
   "metadata": {},
   "outputs": [
    {
     "data": {
      "text/plain": [
       "['a', 'b', ' guido']"
      ]
     },
     "execution_count": 16,
     "metadata": {},
     "output_type": "execute_result"
    }
   ],
   "source": [
    "val = 'a,b, guido'\n",
    "val.split(\",\") "
   ]
  },
  {
   "cell_type": "code",
   "execution_count": 17,
   "id": "2484392b",
   "metadata": {},
   "outputs": [
    {
     "data": {
      "text/plain": [
       "['a', 'b', 'guido']"
      ]
     },
     "execution_count": 17,
     "metadata": {},
     "output_type": "execute_result"
    }
   ],
   "source": [
    "pieces = [x.strip() for x in val.split(\",\")]\n",
    "pieces "
   ]
  },
  {
   "cell_type": "code",
   "execution_count": 19,
   "id": "f3735f52",
   "metadata": {},
   "outputs": [
    {
     "data": {
      "text/plain": [
       "'a::b::guido'"
      ]
     },
     "execution_count": 19,
     "metadata": {},
     "output_type": "execute_result"
    }
   ],
   "source": [
    "first, second, third = pieces \n",
    "first + \"::\" + second + \"::\" + third"
   ]
  },
  {
   "cell_type": "code",
   "execution_count": 20,
   "id": "d4a2bfae",
   "metadata": {},
   "outputs": [
    {
     "data": {
      "text/plain": [
       "'a::b::guido'"
      ]
     },
     "execution_count": 20,
     "metadata": {},
     "output_type": "execute_result"
    }
   ],
   "source": [
    "\"::\".join(pieces) "
   ]
  },
  {
   "cell_type": "code",
   "execution_count": 22,
   "id": "3760ac65",
   "metadata": {},
   "outputs": [
    {
     "name": "stdout",
     "output_type": "stream",
     "text": [
      "True\n"
     ]
    }
   ],
   "source": [
    "print(\"guido\" in val) "
   ]
  },
  {
   "cell_type": "code",
   "execution_count": 24,
   "id": "8ffb57ce",
   "metadata": {},
   "outputs": [
    {
     "name": "stdout",
     "output_type": "stream",
     "text": [
      "Index of comma: 5\n"
     ]
    }
   ],
   "source": [
    "my_string = \"Hello, world!\"\n",
    "index_of_comma = my_string. index(\",\")\n",
    "#index_of plus = my_string. index(\"+\")\n",
    "print(\"Index of comma:\", index_of_comma)\n",
    "#print(index "
   ]
  },
  {
   "cell_type": "code",
   "execution_count": 27,
   "id": "b370ddca",
   "metadata": {},
   "outputs": [
    {
     "name": "stdout",
     "output_type": "stream",
     "text": [
      "Index of colon: 7\n",
      "-1\n"
     ]
    }
   ],
   "source": [
    "new_string = \"example:value\"\n",
    "index_of_colon = new_string.find(\":\")\n",
    "index_of_plus = new_string.find(\"+\") \n",
    "print(\"Index of colon:\", index_of_colon) \n",
    "print(index_of_plus) "
   ]
  },
  {
   "cell_type": "code",
   "execution_count": 28,
   "id": "03367e84",
   "metadata": {},
   "outputs": [
    {
     "data": {
      "text/plain": [
       "2"
      ]
     },
     "execution_count": 28,
     "metadata": {},
     "output_type": "execute_result"
    }
   ],
   "source": [
    "val.count(\",\")"
   ]
  },
  {
   "cell_type": "code",
   "execution_count": 29,
   "id": "c77750c6",
   "metadata": {},
   "outputs": [
    {
     "data": {
      "text/plain": [
       "'a ::b :: guido'"
      ]
     },
     "execution_count": 29,
     "metadata": {},
     "output_type": "execute_result"
    }
   ],
   "source": [
    "val.replace(\",\", \" ::\")"
   ]
  },
  {
   "cell_type": "code",
   "execution_count": 30,
   "id": "b89814c0",
   "metadata": {},
   "outputs": [],
   "source": [
    "import re"
   ]
  },
  {
   "cell_type": "code",
   "execution_count": 31,
   "id": "06e7fa83",
   "metadata": {},
   "outputs": [
    {
     "data": {
      "text/plain": [
       "['foo', 'bar', 'baz', 'qux']"
      ]
     },
     "execution_count": 31,
     "metadata": {},
     "output_type": "execute_result"
    }
   ],
   "source": [
    "text = \"foo bar\\t baz \\nqux\" \n",
    "re.split(r\"\\s+\", text) #\\s+ represents one or m"
   ]
  },
  {
   "cell_type": "code",
   "execution_count": 32,
   "id": "255c3f61",
   "metadata": {},
   "outputs": [
    {
     "data": {
      "text/plain": [
       "['foo', 'bar', 'baz', 'qux']"
      ]
     },
     "execution_count": 32,
     "metadata": {},
     "output_type": "execute_result"
    }
   ],
   "source": [
    "regex = re.compile(r\"\\s+\")\n",
    "regex. split(text) "
   ]
  },
  {
   "cell_type": "code",
   "execution_count": 33,
   "id": "9523643c",
   "metadata": {},
   "outputs": [
    {
     "data": {
      "text/plain": [
       "[' ', '\\t ', ' \\n']"
      ]
     },
     "execution_count": 33,
     "metadata": {},
     "output_type": "execute_result"
    }
   ],
   "source": [
    "regex = re.compile(r\"\\s+\") \n",
    "regex.findall (text) "
   ]
  },
  {
   "cell_type": "code",
   "execution_count": 40,
   "id": "58d80059",
   "metadata": {},
   "outputs": [
    {
     "name": "stdout",
     "output_type": "stream",
     "text": [
      "['Dave dave@google.com', ' Steve steve@gmail.com', ' Rob rob@gmail.com', ' Ryan ryan@yahoo.com', ' Prashant prashant@gmail.com']\n"
     ]
    }
   ],
   "source": [
    "text = \"\"\"Dave dave@google.com Steve steve@gmail.com Rob rob@gmail.com Ryan ryan@yahoo.com Prashant prashant@gmail.com\"\"\"\n",
    "pattern = r\"[A-Z0-9. %+-]+@[A-Z0-9.-]+\\.[A-Z]{2,4}\"\n",
    "regex = re.compile(pattern, flags=re.IGNORECASE)\n",
    "\n",
    "matches = regex.findall(text)\n",
    "print(matches)"
   ]
  },
  {
   "cell_type": "code",
   "execution_count": 41,
   "id": "a371d09c",
   "metadata": {},
   "outputs": [
    {
     "data": {
      "text/plain": [
       "['Dave dave@google.com',\n",
       " ' Steve steve@gmail.com',\n",
       " ' Rob rob@gmail.com',\n",
       " ' Ryan ryan@yahoo.com',\n",
       " ' Prashant prashant@gmail.com']"
      ]
     },
     "execution_count": 41,
     "metadata": {},
     "output_type": "execute_result"
    }
   ],
   "source": [
    "regex.findall(text) "
   ]
  },
  {
   "cell_type": "code",
   "execution_count": 42,
   "id": "5c1dcb18",
   "metadata": {},
   "outputs": [
    {
     "name": "stdout",
     "output_type": "stream",
     "text": [
      "<re.Match object; span=(0, 20), match='Dave dave@google.com'>\n",
      "<re.Match object; span=(0, 20), match='Dave dave@google.com'>\n"
     ]
    }
   ],
   "source": [
    "m_search = regex.search(text) \n",
    "print(m_search) \n",
    "m_match = regex.match(text) \n",
    "print (m_match) "
   ]
  },
  {
   "cell_type": "code",
   "execution_count": 43,
   "id": "73263796",
   "metadata": {},
   "outputs": [
    {
     "name": "stdout",
     "output_type": "stream",
     "text": [
      "REDACTEDREDACTEDREDACTEDREDACTEDREDACTED\n"
     ]
    }
   ],
   "source": [
    "print(regex.sub(\"REDACTED\", text)) "
   ]
  },
  {
   "cell_type": "code",
   "execution_count": 45,
   "id": "f873d4d2",
   "metadata": {
    "scrolled": true
   },
   "outputs": [],
   "source": [
    "pattern = r\"([A-Z0-9. %+-]+)@([A-Z0-9.-]+)\\.([A-Z]{2,4})\"\n",
    "regex = re.compile(pattern, flags=re.IGNORECASE)"
   ]
  },
  {
   "cell_type": "code",
   "execution_count": 47,
   "id": "81e9ba47",
   "metadata": {},
   "outputs": [
    {
     "name": "stdout",
     "output_type": "stream",
     "text": [
      "<re.Match object; span=(0, 20), match='prashant@example.com'>\n"
     ]
    },
    {
     "data": {
      "text/plain": [
       "('prashant', 'example', 'com')"
      ]
     },
     "execution_count": 47,
     "metadata": {},
     "output_type": "execute_result"
    }
   ],
   "source": [
    "new_text = \"\"\"prashant@example.com examplel@example. com hello@example.com example@com example\"\"\"\n",
    "m= regex.match(new_text) \n",
    "print(m)\n",
    "m.groups() "
   ]
  },
  {
   "cell_type": "code",
   "execution_count": 48,
   "id": "085f1706",
   "metadata": {},
   "outputs": [
    {
     "data": {
      "text/plain": [
       "[('prashant', 'example', 'com'), ('example. com hello', 'example', 'com')]"
      ]
     },
     "execution_count": 48,
     "metadata": {},
     "output_type": "execute_result"
    }
   ],
   "source": [
    "m = regex.findall(new_text) \n",
    "m "
   ]
  },
  {
   "cell_type": "code",
   "execution_count": 49,
   "id": "392b08b8",
   "metadata": {},
   "outputs": [
    {
     "name": "stdout",
     "output_type": "stream",
     "text": [
      "'Username:prashant, Domain:example, Suffix:com examplel@'Username:example. com hello, Domain:example, Suffix:com example@com example\n"
     ]
    }
   ],
   "source": [
    "m= regex.sub(r\"'Username:\\1, Domain:\\2, Suffix:\\3\", new_text) \n",
    "print(m) "
   ]
  },
  {
   "cell_type": "code",
   "execution_count": 50,
   "id": "30d2ae61",
   "metadata": {},
   "outputs": [
    {
     "data": {
      "text/plain": [
       "Dave     dave@google.con\n",
       "Steve    steve@gmail.com\n",
       "Rob        rob@gmail.com\n",
       "Wes                  NaN\n",
       "dtype: object"
      ]
     },
     "execution_count": 50,
     "metadata": {},
     "output_type": "execute_result"
    }
   ],
   "source": [
    "data = {\"Dave\":\"dave@google.con\", \"Steve\": \"steve@gmail.com\",\"Rob\": \"rob@gmail.com\", \"Wes\": np.nan} \n",
    "data = pd.Series(data) \n",
    "data "
   ]
  },
  {
   "cell_type": "code",
   "execution_count": 51,
   "id": "f692a270",
   "metadata": {},
   "outputs": [
    {
     "data": {
      "text/plain": [
       "Dave     False\n",
       "Steve    False\n",
       "Rob      False\n",
       "Wes       True\n",
       "dtype: bool"
      ]
     },
     "execution_count": 51,
     "metadata": {},
     "output_type": "execute_result"
    }
   ],
   "source": [
    "data.isna()"
   ]
  },
  {
   "cell_type": "code",
   "execution_count": 52,
   "id": "85900a23",
   "metadata": {},
   "outputs": [
    {
     "data": {
      "text/plain": [
       "Dave     False\n",
       "Steve     True\n",
       "Rob       True\n",
       "Wes        NaN\n",
       "dtype: object"
      ]
     },
     "execution_count": 52,
     "metadata": {},
     "output_type": "execute_result"
    }
   ],
   "source": [
    "data.str.contains(\"gmail\") "
   ]
  },
  {
   "cell_type": "code",
   "execution_count": 53,
   "id": "8148aae1",
   "metadata": {},
   "outputs": [
    {
     "data": {
      "text/plain": [
       "Dave     [(dave, google, con)]\n",
       "Steve    [(steve, gmail, com)]\n",
       "Rob        [(rob, gmail, com)]\n",
       "Wes                        NaN\n",
       "dtype: object"
      ]
     },
     "execution_count": 53,
     "metadata": {},
     "output_type": "execute_result"
    }
   ],
   "source": [
    "pattern = r\"([A-Z0-9. %+-]+)@([A-Z0-9.-]+)\\.([A-Z]{2,4})\"\n",
    "data.str.findall(pattern, flags=re.IGNORECASE) "
   ]
  },
  {
   "cell_type": "code",
   "execution_count": 54,
   "id": "2c842edf",
   "metadata": {},
   "outputs": [
    {
     "data": {
      "text/plain": [
       "Dave     [(dave, google, con)]\n",
       "Steve    [(steve, gmail, com)]\n",
       "Rob        [(rob, gmail, com)]\n",
       "Wes                        NaN\n",
       "dtype: object"
      ]
     },
     "execution_count": 54,
     "metadata": {},
     "output_type": "execute_result"
    }
   ],
   "source": [
    "matches = data.str.findall(pattern, flags=re.IGNORECASE) \n",
    "matches "
   ]
  },
  {
   "cell_type": "code",
   "execution_count": 55,
   "id": "9d20b546",
   "metadata": {},
   "outputs": [
    {
     "name": "stdout",
     "output_type": "stream",
     "text": [
      "Dave    NaN\n",
      "Steve   NaN\n",
      "Rob     NaN\n",
      "Wes     NaN\n",
      "dtype: float64\n"
     ]
    }
   ],
   "source": [
    "result = matches.str.get(1) \n",
    "print(result) "
   ]
  },
  {
   "cell_type": "code",
   "execution_count": 57,
   "id": "64d4ce5a",
   "metadata": {},
   "outputs": [
    {
     "data": {
      "text/plain": [
       "Dave     (dave, google, con)\n",
       "Steve    (steve, gmail, com)\n",
       "Rob        (rob, gmail, com)\n",
       "Wes                      NaN\n",
       "dtype: object"
      ]
     },
     "execution_count": 57,
     "metadata": {},
     "output_type": "execute_result"
    }
   ],
   "source": [
    "matches.str[0] "
   ]
  },
  {
   "cell_type": "code",
   "execution_count": 58,
   "id": "511408e5",
   "metadata": {},
   "outputs": [
    {
     "data": {
      "text/plain": [
       "Dave     [(dave, google, con)]\n",
       "Steve    [(steve, gmail, com)]\n",
       "Rob        [(rob, gmail, com)]\n",
       "Wes                        NaN\n",
       "dtype: object"
      ]
     },
     "execution_count": 58,
     "metadata": {},
     "output_type": "execute_result"
    }
   ],
   "source": [
    "matches.str[:5] "
   ]
  },
  {
   "cell_type": "code",
   "execution_count": null,
   "id": "1606ae79",
   "metadata": {},
   "outputs": [],
   "source": []
  }
 ],
 "metadata": {
  "kernelspec": {
   "display_name": "Python 3 (ipykernel)",
   "language": "python",
   "name": "python3"
  },
  "language_info": {
   "codemirror_mode": {
    "name": "ipython",
    "version": 3
   },
   "file_extension": ".py",
   "mimetype": "text/x-python",
   "name": "python",
   "nbconvert_exporter": "python",
   "pygments_lexer": "ipython3",
   "version": "3.11.5"
  }
 },
 "nbformat": 4,
 "nbformat_minor": 5
}
